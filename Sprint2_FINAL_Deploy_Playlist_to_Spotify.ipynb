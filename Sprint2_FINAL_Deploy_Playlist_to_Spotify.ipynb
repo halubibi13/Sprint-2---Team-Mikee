{
 "cells": [
  {
   "cell_type": "code",
   "execution_count": 7,
   "metadata": {
    "ExecuteTime": {
     "end_time": "2021-01-30T10:33:03.023817Z",
     "start_time": "2021-01-30T10:33:02.589257Z"
    }
   },
   "outputs": [],
   "source": [
    "import spotipy\n",
    "from spotipy.oauth2 import SpotifyClientCredentials\n",
    "\n",
    "import keyring\n",
    "import time"
   ]
  },
  {
   "cell_type": "code",
   "execution_count": 8,
   "metadata": {
    "ExecuteTime": {
     "end_time": "2021-01-30T10:33:43.805512Z",
     "start_time": "2021-01-30T10:33:03.026812Z"
    }
   },
   "outputs": [
    {
     "name": "stdout",
     "output_type": "stream",
     "text": [
      "Enter the URL you were redirected to: https://localhost:8888/callback/?code=AQA17gpsD3Xu7hIEd8zRQkqHkybulL5ioNqWFG6pg6a0MUQUsI07GptR21dv5Bf481Ok4N2B7h4lKx8uBHyik_rDiVoOddFG2dlEnYiURe7wOBbpk_otBpZ44BrnBLlgH7nUQ-YqIZ3ZR7VkwPPs55Kl19-mL10c5f3mM4AZu61XSOhqVVUv53pWXF5Hz6pNCuui1sv4SYG_\n",
      "Enter the URL you were redirected to: https://localhost:8888/callback/?code=AQDwaAsIjTWDJv8U_joR0oXf37yp2X3-NDy9oanCHEQjaQzacVNUmN828aVM519HBzv5_eSabFUlF16v9KKyLq6tKpHFNb0Q1Ug0JtYHleB1KoB9jJls9rr8yLC4ILyyWLS9cVzg-vN6ha6mshM5UR8cT-mOZMGSKePZ94m9vl81a4U5gASRqU-1rK-wPZMwFpwFe15laRNkhVeP\n"
     ]
    }
   ],
   "source": [
    "client_id=keyring.get_password('spotify', 'cid')\n",
    "client_secret=keyring.get_password('spotify', 'secret') \n",
    "redirect_uri='https://localhost:8888/callback/'\n",
    "\n",
    "username = 'halubibi97'\n",
    "scope_playlist = 'playlist-modify-public'\n",
    "scope_user = 'user-library-modify'\n",
    "\n",
    "#Credentials to access the Spotify Music Data\n",
    "manager = SpotifyClientCredentials(client_id,client_secret)\n",
    "sp = spotipy.Spotify(client_credentials_manager=manager)\n",
    "\n",
    "#Credentials to access the library  \n",
    "token_user= spotipy.util.prompt_for_user_token(username,scope_user,client_id,client_secret,redirect_uri) \n",
    "sp_user = spotipy.Spotify(auth=token_user)\n",
    "\n",
    "#Credentials to access the playlists\n",
    "token_playlist= spotipy.util.prompt_for_user_token(username,scope_playlist,client_id,client_secret,redirect_uri) \n",
    "sp_playlist = spotipy.Spotify(auth=token_playlist)"
   ]
  },
  {
   "cell_type": "code",
   "execution_count": 9,
   "metadata": {
    "ExecuteTime": {
     "end_time": "2021-01-30T10:33:58.713559Z",
     "start_time": "2021-01-30T10:33:58.710117Z"
    }
   },
   "outputs": [],
   "source": [
    "# track_id_list = ['0W5hTAWn8Tq0Qfhg1XP3YW','2FXd6kKCtBIc6UfN1gH1pA', '3xngVLz4NYEshyX3aRRXgf',\\\n",
    "#        '5NhDDt5Zy8yGOECN3PLRdE', '7iXrqFaV5tK4Fri4mrO8jP',\\\n",
    "#        '6R6ZoHTypt5lt68MWbzZXv', '1IWNylpZ477gIVUDpJL66u',\\\n",
    "#        '3OtQmFLS5b3pTgIf44GQFJ', '5yNEdBlZMxpcVtGKz5NFk5',\\\n",
    "#        '3tdKcnxykcmJcssYDGxoC2', '5QO79kh1waicV47BqGRL3g']"
   ]
  },
  {
   "cell_type": "code",
   "execution_count": 16,
   "metadata": {},
   "outputs": [],
   "source": [
    "# track_id_list2 = ['20JlaQj9irFjFb8X0SKKS7', '65sEZZaxTjLMD8vNgPoMz5',\n",
    "#        '2uIX8YMNjGMD7441kqyyNU', '4JSDhJVmo2UqdF7nxbyenn',\n",
    "#        '4Bt8Ly7wwutPbX1dHXhuok', '2BrzlUj1u1CtvaJDGIKpsP',\n",
    "#        '0rFOs9paloAvEtzwDX1Kmc', '7lPN2DXiMsVn7XUKtOW1CS',\n",
    "#        '1lkvpmrCaXK8QtliFDcHBO', '55XlSI5d8hMVoNjVkpQpT7']"
   ]
  },
  {
   "cell_type": "code",
   "execution_count": 23,
   "metadata": {},
   "outputs": [],
   "source": [
    "# track_id_list_exercise = ['6yL2kTsdVwYnGwPkKGtMd5', '4K3rHzlRYtoXXoDqh9sao2',\n",
    "#        '3iEqGBZ2wcpVzhiAcwXVC6', '4LkUk89J5n1gaEcGxMTGUt',\n",
    "#        '4rPkN1FMzQyFNP9cLUGIIB', '2MsNSKQNQNRklkKFxxvIav',\n",
    "#        '7nAfXgeHfDO50upcOjJOaq', '3FiE2d325mIOc4YjkSLVJR',\n",
    "#        '4izg6Hydc6XGErWW6nbdsV', '3dJj6o9o1fRgrojWjailuz']"
   ]
  },
  {
   "cell_type": "code",
   "execution_count": 3,
   "metadata": {},
   "outputs": [],
   "source": [
    "# track_id_list_repr = ['4ecVWqbtW6phQGpZMAyqIU'] + \\\n",
    "# ['42tFTth2jcF7iSo0RBjfJF', '7r6bu5Xd0q2TK1QQMduxb8',\n",
    "#        '4Uy3kNxW2kB8AEoXljEcth', '4D5Ode2OfZMxIwQyvmhUe8',\n",
    "#        '5U0RzSPAVv4jxWkLinGLWF', '0B8B8cVRFIG1yznoQe7c9s',\n",
    "#        '0GU5GuJQQEnnREO2FxnVPT', '6G7DuXoSGeAf6BZivJdEjF',\n",
    "#        '03wvlNaxFKB9sge4U6vyPE', '4L2B4G5PDPL3eFMJlp6fNk',\n",
    "#        '0E3LHQbZTPLyw06z6XvmNn', '6lD9nDl7jBUSIPDMAMZjuD',\n",
    "#        '7ju97lgwC2rKQ6wwsf9no9', '24ySl2hOPGCDcxBxFIqWBu',\n",
    "#        '6tCssnvTUREcperDOUTqvA', '4wJKGMBKvoyYhGo7bXVfTd',\n",
    "#        '5a8RPWgKSmcGBGcffmIrUi', '1hd8IgMElWy3OqcFVjZMUx',\n",
    "#        '7aV2mflaASUmGhCErm7kBO', '6cy3ki60hLwimwIje7tALf',\n",
    "#        '6t2ubAB4iSYOuIpRAOGd4t', '6JV2JOEocMgcZxYSZelKcc',\n",
    "#        '40nPimvmG05WYS7983bawZ', '7iNIg7XDEaYECfWD5dJ9Va',\n",
    "#        '3omvXShuRPM3zbDpWYqf5g', '2bAAj29XGc4h1G4oEGYCmg',\n",
    "#        '7nZmah2llfvLDiUjm0kiyz', '053ZzdU3Rya4NMxiWMPqnq',\n",
    "#        '3fNpKcMrEDrnjahY9kN5fQ', '042x9bsUBWW2fJgJ6fUh61',\n",
    "#        '2GiJYvgVaD2HtM8GqD9EgQ', '4lRwa7PKcGIuJMwtPIYKdy',\n",
    "#        '61WbtB6ujkpNAsAf5LjF4b', '05mAIVLkIWc2d1UBYZBCp8',\n",
    "#        '3PEgB3fkiojxms35ntsTgs', '1s7voXUxRTw98pmy1J8urv',\n",
    "#        '6UrML9LyuaBWgZV3nFLLGl', '4XDWKodqvKyGL5YJILpKM5',\n",
    "#        '7zFBtYAVURF3bUVqEQ6UUu', '3DGar7krWlmrXRFHBcQF6z',\n",
    "#        '0RTzJVkunbGwuRjXDFHnjf', '4q8PHoRsPUB52LFylX8Ulz',\n",
    "#        '6b8Be6ljOzmkOmFslEb23P', '5OepnJhqZoyJN8qWo2LZzy',\n",
    "#        '5GkQIP5mWPi4KZLLXeuFTT', '1pfgsjmxVZhoZpeDx6POKv',\n",
    "#        '5ZnJsoJGkQ5K15W7Rcr5JO', '7jr3iPu4O4bTCVwLMbdU2i',\n",
    "#        '3wDW4OofLMg3fL2BihWzAp', '71bBFbfn2OBK5QwUJSLS44']"
   ]
  },
  {
   "cell_type": "code",
   "execution_count": 29,
   "metadata": {},
   "outputs": [],
   "source": [
    "# track_id_list_sprint = ['4ecVWqbtW6phQGpZMAyqIU'] + \\\n",
    "# ['35J5q8vdObi345b8NKm1CX', '37TSJmYKLxXmx8OehFpqMN',\n",
    "#        '26hcyzSE154xMZCbFdtInA', '42tFTth2jcF7iSo0RBjfJF',\n",
    "#        '4Dq2FjRkOTHcssggMdYK8J', '14oOKFGuXu8DqvOe1W8vao',\n",
    "#        '7aV2mflaASUmGhCErm7kBO', '4fwo6czG5nvOQMzhOto1ya',\n",
    "#        '61WbtB6ujkpNAsAf5LjF4b', '13hvHEstJ4sNbzdroPrPI3',\n",
    "#        '6DNtNfH8hXkqOX1sjqmI7p', '0BnTBAGmr9FtYwkZrwKhwS',\n",
    "#        '1ZLrDPgR7mvuTco3rQK8Pk', '2bAAj29XGc4h1G4oEGYCmg',\n",
    "#        '5OepnJhqZoyJN8qWo2LZzy', '1raaNykBg1bDnWENUiglUA',\n",
    "#        '3FARQP8fA49bSsTWjNyWmY', '08bNPGLD8AhKpnnERrAc6G',\n",
    "#        '03wvlNaxFKB9sge4U6vyPE', '5jpokUp9ZQhRKhGqT19e52',\n",
    "#        '4Uy3kNxW2kB8AEoXljEcth', '0E3LHQbZTPLyw06z6XvmNn',\n",
    "#        '6UrML9LyuaBWgZV3nFLLGl', '4lRwa7PKcGIuJMwtPIYKdy',\n",
    "#        '3DGar7krWlmrXRFHBcQF6z', '2WyRfGeHo97VC5mP1BBSzr',\n",
    "#        '5Xn4IyTtW6FUGIUyWjbUHG', '3K5iV064JlAqt9tYVZP2KF',\n",
    "#        '6XOYVSmNDjKUNMXooU4s4z', '4kIpBfvK44bxqX7zo8K1oP',\n",
    "#        '2GGGm4MLQynB3I4E4ycIYC', '4D5Ode2OfZMxIwQyvmhUe8',\n",
    "#        '5CLGzJsGqhCEECcpnFQA8x', '6t2ubAB4iSYOuIpRAOGd4t',\n",
    "#        '3soOPBuMK8YMdWnV7xpEyf', '1hd8IgMElWy3OqcFVjZMUx',\n",
    "#        '2kLf4myxQME1Nd0voeKZri', '29QQoKCiBil8wTBeP1GDBm',\n",
    "#        '7r6bu5Xd0q2TK1QQMduxb8', '4L2B4G5PDPL3eFMJlp6fNk',\n",
    "#        '1Sl3njkhhz8nrSPZroDQ82', '6b8Be6ljOzmkOmFslEb23P',\n",
    "#        '1vvNmPOiUuyCbgWmtc6yfm', '6AV7hLSw5cIMTI47BxKRm6',\n",
    "#        '78qd8dvwea0Gosb6Fe6j3k', '3a1lNhkSLSkpJE4MSHpDu9',\n",
    "#        '4wJKGMBKvoyYhGo7bXVfTd', '3frUvGrmGcay91lvFbOgsN',\n",
    "#        '3jjujdWJ72nww5eGnfs2E7', '1wDfQ3eLZb51M8jCkNwbyx']"
   ]
  },
  {
   "cell_type": "code",
   "execution_count": 17,
   "metadata": {},
   "outputs": [],
   "source": [
    "track_id_list_repr_wokpop = ['05mAIVLkIWc2d1UBYZBCp8', '3A7qX2QjDlPnazUsRk5y0M',\n",
    "       '5U0RzSPAVv4jxWkLinGLWF', '0E6PsO3ymCfUh7pJQjBgkj',\n",
    "       '6lD9nDl7jBUSIPDMAMZjuD', '4iLqG9SeJSnt0cSPICSjxv',\n",
    "       '6LcauUZjF1eXQrgqMUecHX', '6Yx181fZzA0YE2EkUsYruq',\n",
    "       '6t2ubAB4iSYOuIpRAOGd4t', '20PUUNHvpjjPh92Q6x0DC4',\n",
    "       '2gTYVoQCUh0QNUaFix01ld', '40nPimvmG05WYS7983bawZ',\n",
    "       '48Utf6gNBC9rewCPEvL5ja', '0RTzJVkunbGwuRjXDFHnjf',\n",
    "       '2LTlO3NuNVN70lp2ZbVswF', '4uqRDeCgXPLQFYqA5uf5Tr',\n",
    "       '01iyINEYgPQ7ThMZuHUsqS', '2Gl0FzuLxflY6nPifJp5Dr',\n",
    "       '0PvFJmanyNQMseIFrU708S', '6zGPytJiZmFuyVq7RTNO9G',\n",
    "       '1IIKrJVP1C9N7iPtG6eOsK', '4ZgZPrrSLi4sIiFkiahuxq',\n",
    "       '1s7voXUxRTw98pmy1J8urv', '6i0V12jOa3mr6uu4WYhUBr',\n",
    "       '7qs2GAglLWfxEfmO8u2u0A', '5u1n1kITHCxxp8twBcZxWy',\n",
    "       '6ju3FaV3aVLzGzwERKZuFK', '5dNfHmqgr128gMY2tc5CeJ',\n",
    "       '4Q6GncsjUTwWoQO6nsdyA6', '4izP2KMwrhAdZEtIyp8Z8w',\n",
    "       '073ILU1C3APNRGF66VhtyA', '7eOkHIcaoUhngxxypM5Ajr',\n",
    "       '7wvYmO5QscgIDDT0eNwbYX', '7oqftogUN82Q7VNy2TmTJW',\n",
    "       '2lYjH3ZbCrW7CHmSRvVCN3', '7txPE73wHbuXYkM1h8zNrG',\n",
    "       '1vvNmPOiUuyCbgWmtc6yfm', '2xJCMIJfcNYDc5iR0sAm2O',\n",
    "       '53CJANUxooaqGOtdsBTh7O', '5qrzhg9Fmu8Amg2uMhHfe5',\n",
    "       '2QWP8NYYplOqEFBYGCcq0S', '7ju97lgwC2rKQ6wwsf9no9',\n",
    "       '5xYVqJ7ppf4bTbbztvVOYx', '42NpUvd0I2kdIuMXX4nobE',\n",
    "       '5v4GgrXPMghOnBBLmveLac', '0B8B8cVRFIG1yznoQe7c9s',\n",
    "       '6brl7bwOHmGFkNw3MBqssT', '6u8hSdYZxbK5EczDPRIXXf',\n",
    "       '3m660poUr1chesgkkjQM7P', '2UVbBKQOdFAekPTRsnkzcf',\n",
    "       '2D0dj3hVkRQJCp63cxCPEx', '7yBbV2k2S2uhaQc24NF2xt',\n",
    "       '4vkVvmjIiQibQ6zJnC1Q9z', '7aV2mflaASUmGhCErm7kBO',\n",
    "       '6qNALlmZa1ESnCxJmXE1K9', '0P6AWOA4LG1XOctzaVu5tt',\n",
    "       '5SHhPFh68OhUmuRPymKX9d', '08sQknOKXt3Thw6kw3pUu1',\n",
    "       '6hLkeOMrhZ2CMLBp2of576', '3DGar7krWlmrXRFHBcQF6z',\n",
    "       '2eMwDehkIC1j68U6FA3Eiq', '4QdovcM8j50QPlyR7tH4xe',\n",
    "       '00lNx0OcTJrS3MKHcB80HY', '4c2W3VKsOFoIg2SFaO6DY5',\n",
    "       '4yJiXq86uM56uIfIZgE440', '5GkQIP5mWPi4KZLLXeuFTT']"
   ]
  },
  {
   "cell_type": "code",
   "execution_count": 10,
   "metadata": {
    "ExecuteTime": {
     "end_time": "2021-01-30T10:34:16.559665Z",
     "start_time": "2021-01-30T10:34:16.175929Z"
    },
    "scrolled": true
   },
   "outputs": [
    {
     "data": {
      "text/plain": [
       "{'collaborative': False,\n",
       " 'description': '',\n",
       " 'external_urls': {'spotify': 'https://open.spotify.com/playlist/3iwKMiQ0EVEFooxMwGDHjb'},\n",
       " 'followers': {'href': None, 'total': 0},\n",
       " 'href': 'https://api.spotify.com/v1/playlists/3iwKMiQ0EVEFooxMwGDHjb',\n",
       " 'id': '3iwKMiQ0EVEFooxMwGDHjb',\n",
       " 'images': [],\n",
       " 'name': 'Recommended Songs for Representative ITZY track',\n",
       " 'owner': {'display_name': 'halubibi97',\n",
       "  'external_urls': {'spotify': 'https://open.spotify.com/user/halubibi97'},\n",
       "  'href': 'https://api.spotify.com/v1/users/halubibi97',\n",
       "  'id': 'halubibi97',\n",
       "  'type': 'user',\n",
       "  'uri': 'spotify:user:halubibi97'},\n",
       " 'primary_color': None,\n",
       " 'public': True,\n",
       " 'snapshot_id': 'MSxiMmNmMjE4YzAwOTQwZWZkMzhlNDg5YTkzZmU5Y2NmMmQwOWUzODE1',\n",
       " 'tracks': {'href': 'https://api.spotify.com/v1/playlists/3iwKMiQ0EVEFooxMwGDHjb/tracks',\n",
       "  'items': [],\n",
       "  'limit': 100,\n",
       "  'next': None,\n",
       "  'offset': 0,\n",
       "  'previous': None,\n",
       "  'total': 0},\n",
       " 'type': 'playlist',\n",
       " 'uri': 'spotify:playlist:3iwKMiQ0EVEFooxMwGDHjb'}"
      ]
     },
     "execution_count": 10,
     "metadata": {},
     "output_type": "execute_result"
    }
   ],
   "source": [
    "new_playlist_name = \"Recommended Songs for Representative ITZY track\"\n",
    "new_playlist = sp_playlist.user_playlist_create(username, name=new_playlist_name)\n",
    "new_playlist"
   ]
  },
  {
   "cell_type": "code",
   "execution_count": 11,
   "metadata": {
    "ExecuteTime": {
     "end_time": "2021-01-30T10:34:37.894733Z",
     "start_time": "2021-01-30T10:34:37.887189Z"
    }
   },
   "outputs": [
    {
     "data": {
      "text/plain": [
       "'3iwKMiQ0EVEFooxMwGDHjb'"
      ]
     },
     "execution_count": 11,
     "metadata": {},
     "output_type": "execute_result"
    }
   ],
   "source": [
    "new_playlist['id']"
   ]
  },
  {
   "cell_type": "code",
   "execution_count": 12,
   "metadata": {
    "ExecuteTime": {
     "end_time": "2021-01-30T10:34:56.831169Z",
     "start_time": "2021-01-30T10:34:56.668907Z"
    }
   },
   "outputs": [
    {
     "data": {
      "text/plain": [
       "{'snapshot_id': 'Miw3YTBmYjYxMzg1ZTI3OWNlNTExYmQ3NjMyMTkwMzkyYWZiZmU4ZmU5'}"
      ]
     },
     "execution_count": 12,
     "metadata": {},
     "output_type": "execute_result"
    }
   ],
   "source": [
    "playlist_id=new_playlist['id']\n",
    "sp_playlist.user_playlist_add_tracks(username, playlist_id, track_id_list_repr_wokpop)"
   ]
  },
  {
   "cell_type": "markdown",
   "metadata": {},
   "source": [
    "### Modify playlist"
   ]
  },
  {
   "cell_type": "code",
   "execution_count": 34,
   "metadata": {},
   "outputs": [],
   "source": [
    "# sp_playlist.user_playlist_change_details(username, playlist_id='57IH70QkcpW7OAjk0zC4Ka', \\\n",
    "#                                         name=\"SPRINT 2 - Recommendations on 'Not Shy' by ITZY\")"
   ]
  },
  {
   "cell_type": "code",
   "execution_count": 23,
   "metadata": {},
   "outputs": [
    {
     "data": {
      "text/plain": [
       "{'snapshot_id': 'NSwxYjEzMDcxODI2MjQzMjFmNjkzNTc4MmNmYWY4NTQ1MDExNmRiOTVm'}"
      ]
     },
     "execution_count": 23,
     "metadata": {},
     "output_type": "execute_result"
    }
   ],
   "source": [
    "sp_playlist.user_playlist_replace_tracks(username, playlist_id='3iwKMiQ0EVEFooxMwGDHjb', \\\n",
    "                                        tracks=track_id_list_repr_wokpop)"
   ]
  }
 ],
 "metadata": {
  "kernelspec": {
   "display_name": "Python 3",
   "language": "python",
   "name": "python3"
  },
  "language_info": {
   "codemirror_mode": {
    "name": "ipython",
    "version": 3
   },
   "file_extension": ".py",
   "mimetype": "text/x-python",
   "name": "python",
   "nbconvert_exporter": "python",
   "pygments_lexer": "ipython3",
   "version": "3.7.7"
  }
 },
 "nbformat": 4,
 "nbformat_minor": 4
}
